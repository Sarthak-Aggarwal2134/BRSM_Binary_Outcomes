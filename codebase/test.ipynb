{
 "cells": [
  {
   "cell_type": "code",
   "execution_count": 6,
   "metadata": {},
   "outputs": [
    {
     "name": "stdout",
     "output_type": "stream",
     "text": [
      "                 df       sum_sq     mean_sq           F        PR(>F)\n",
      "C(treatments)   2.0  1352.933333  676.466667  153.467065  1.130535e-23\n",
      "Residual       57.0   251.250000    4.407895         NaN           NaN\n"
     ]
    }
   ],
   "source": [
    "import pandas as pd\n",
    "import statsmodels.api as sm\n",
    "from statsmodels.formula.api import ols\n",
    "\n",
    "from scipy.stats import f_oneway\n",
    "\n",
    "# Create the dataframe\n",
    "df = pd.DataFrame({\n",
    "    'Sleep_Deprivation_1': [15, 18, 20, 15, 12, 18, 16, 17, 14, 19, 20, 15, 16, 18, 19, 15, 17, 18, 17, 16],\n",
    "    'Sleep_Deprivation_2': [10, 16, 13, 11, 9, 14, 13, 14, 15, 14, 12, 13, 14, 12, 11, 15, 14, 16, 12, 13],\n",
    "    'Sleep_Deprivation_3': [5, 3, 9, 6, 4, 7, 8, 2, 4, 6, 9, 5, 3, 7, 1, 8, 7, 3, 6, 4]\n",
    "})\n",
    "\n",
    "# Reshape the data\n",
    "data = pd.melt(df.reset_index(), id_vars=['index'], value_vars=['Sleep_Deprivation_1', 'Sleep_Deprivation_2', 'Sleep_Deprivation_3'])\n",
    "data.columns = ['index', 'treatments', 'value']\n",
    "\n",
    "# Perform the one-way ANOVA\n",
    "model = ols('value ~ C(treatments)', data=data).fit()\n",
    "\n",
    "aov_table = sm.stats.anova_lm(model)\n",
    "\n",
    "# Print the ANOVA table\n",
    "print(aov_table)\n",
    "# print(data)"
   ]
  }
 ],
 "metadata": {
  "kernelspec": {
   "display_name": "Python 3.10 (tensorflow)",
   "language": "python",
   "name": "tensorflow"
  },
  "language_info": {
   "codemirror_mode": {
    "name": "ipython",
    "version": 3
   },
   "file_extension": ".py",
   "mimetype": "text/x-python",
   "name": "python",
   "nbconvert_exporter": "python",
   "pygments_lexer": "ipython3",
   "version": "3.10.8"
  },
  "orig_nbformat": 4
 },
 "nbformat": 4,
 "nbformat_minor": 2
}
